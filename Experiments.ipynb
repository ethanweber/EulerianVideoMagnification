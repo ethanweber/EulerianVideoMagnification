{
 "cells": [
  {
   "cell_type": "markdown",
   "metadata": {},
   "source": [
    "#### Eulerian Video Magnification (EVM) Experiments\n",
    "\n",
    "In this document, we run the code discussed in the write-up."
   ]
  },
  {
   "cell_type": "code",
   "execution_count": 1,
   "metadata": {},
   "outputs": [],
   "source": [
    "%load_ext autoreload\n",
    "%autoreload 2"
   ]
  },
  {
   "cell_type": "code",
   "execution_count": 2,
   "metadata": {},
   "outputs": [],
   "source": [
    "from tqdm import tqdm\n",
    "import os\n",
    "import numpy as np\n",
    "import a12 as vm\n",
    "import matplotlib.pyplot as plt\n",
    "%matplotlib inline"
   ]
  },
  {
   "cell_type": "markdown",
   "metadata": {},
   "source": [
    "#### <hr> baby video - gaussian difference:"
   ]
  },
  {
   "cell_type": "code",
   "execution_count": 3,
   "metadata": {},
   "outputs": [],
   "source": [
    "VIDEO_NAME = \"baby\"\n",
    "FRAMERATE = 30\n",
    "FILENAME = f\"Input/{VIDEO_NAME}.npy\"\n",
    "OUTPUT_PATH = f\"Output/{VIDEO_NAME}\""
   ]
  },
  {
   "cell_type": "code",
   "execution_count": 4,
   "metadata": {
    "scrolled": false
   },
   "outputs": [
    {
     "name": "stdout",
     "output_type": "stream",
     "text": [
      "Loading video with shape: (153, 277, 480, 3)\n"
     ]
    }
   ],
   "source": [
    "video = np.load(FILENAME)\n",
    "print(\"Loading video with shape: {}\".format(video.shape))"
   ]
  },
  {
   "cell_type": "code",
   "execution_count": 5,
   "metadata": {},
   "outputs": [],
   "source": [
    "sigmaS = 1.0 # spatial low pass\n",
    "sigmaTlow = 5.0 # temporal larger gaussian\n",
    "sigmaThigh = 1.0 # temporal smaller gaussian\n",
    "alphaY = 20.0\n",
    "alphaUV = 20.0\n",
    "final_video = vm.videoMag(video, sigmaS, sigmaTlow, sigmaThigh, alphaY, alphaUV)"
   ]
  },
  {
   "cell_type": "code",
   "execution_count": 6,
   "metadata": {},
   "outputs": [
    {
     "name": "stderr",
     "output_type": "stream",
     "text": [
      "100%|██████████| 153/153 [00:16<00:00,  9.10it/s]\n"
     ]
    },
    {
     "name": "stdout",
     "output_type": "stream",
     "text": [
      "Saved images to Output/baby/images\n",
      "Saved video to Output/baby/images.mp4\n"
     ]
    }
   ],
   "source": [
    "vm.writeFrames(video, os.path.join(OUTPUT_PATH, \"images\"), framerate=FRAMERATE)"
   ]
  },
  {
   "cell_type": "code",
   "execution_count": 7,
   "metadata": {
    "scrolled": false
   },
   "outputs": [
    {
     "name": "stderr",
     "output_type": "stream",
     "text": [
      "100%|██████████| 153/153 [00:17<00:00,  8.77it/s]\n"
     ]
    },
    {
     "name": "stdout",
     "output_type": "stream",
     "text": [
      "Saved images to Output/baby_gaussian/images\n",
      "Saved video to Output/baby_gaussian/images.mp4\n"
     ]
    }
   ],
   "source": [
    "vm.writeFrames(final_video, os.path.join(OUTPUT_PATH + \"_gaussian\", \"images\"), framerate=FRAMERATE)"
   ]
  },
  {
   "cell_type": "markdown",
   "metadata": {},
   "source": [
    "#### <hr> face video - gaussian difference:"
   ]
  },
  {
   "cell_type": "code",
   "execution_count": 8,
   "metadata": {},
   "outputs": [],
   "source": [
    "VIDEO_NAME = \"face\"\n",
    "FRAMERATE = 30\n",
    "FILENAME = f\"Input/{VIDEO_NAME}.npy\"\n",
    "OUTPUT_PATH = f\"Output/{VIDEO_NAME}\""
   ]
  },
  {
   "cell_type": "code",
   "execution_count": 9,
   "metadata": {
    "scrolled": true
   },
   "outputs": [
    {
     "name": "stdout",
     "output_type": "stream",
     "text": [
      "Loading video with shape: (153, 592, 528, 3)\n"
     ]
    }
   ],
   "source": [
    "video = np.load(FILENAME)\n",
    "print(\"Loading video with shape: {}\".format(video.shape))"
   ]
  },
  {
   "cell_type": "code",
   "execution_count": 10,
   "metadata": {},
   "outputs": [],
   "source": [
    "sigmaS = 1.0 # spatial low pass\n",
    "sigmaTlow = 5.0 # temporal larger gaussian\n",
    "sigmaThigh = 1.0 # temporal smaller gaussian\n",
    "alphaY = 20.0\n",
    "alphaUV = 20.0\n",
    "final_video = vm.videoMag(video, sigmaS, sigmaTlow, sigmaThigh, alphaY, alphaUV)\n"
   ]
  },
  {
   "cell_type": "code",
   "execution_count": 11,
   "metadata": {},
   "outputs": [
    {
     "name": "stderr",
     "output_type": "stream",
     "text": [
      "100%|██████████| 153/153 [00:42<00:00,  3.56it/s]\n"
     ]
    },
    {
     "name": "stdout",
     "output_type": "stream",
     "text": [
      "Saved images to Output/face/images\n",
      "Saved video to Output/face/images.mp4\n"
     ]
    }
   ],
   "source": [
    "vm.writeFrames(video, os.path.join(OUTPUT_PATH, \"images\"), framerate=FRAMERATE)"
   ]
  },
  {
   "cell_type": "code",
   "execution_count": 12,
   "metadata": {
    "scrolled": false
   },
   "outputs": [
    {
     "name": "stderr",
     "output_type": "stream",
     "text": [
      "100%|██████████| 153/153 [00:41<00:00,  3.73it/s]\n"
     ]
    },
    {
     "name": "stdout",
     "output_type": "stream",
     "text": [
      "Saved images to Output/face_gaussian/images\n",
      "Saved video to Output/face_gaussian/images.mp4\n"
     ]
    }
   ],
   "source": [
    "vm.writeFrames(final_video, os.path.join(OUTPUT_PATH + \"_gaussian\", \"images\"), framerate=FRAMERATE)"
   ]
  },
  {
   "cell_type": "markdown",
   "metadata": {},
   "source": [
    "#### <hr> fan video - gaussian difference:"
   ]
  },
  {
   "cell_type": "code",
   "execution_count": 13,
   "metadata": {},
   "outputs": [],
   "source": [
    "VIDEO_NAME = \"fan\"\n",
    "FRAMERATE = 30\n",
    "FILENAME = f\"Input/{VIDEO_NAME}.npy\"\n",
    "OUTPUT_PATH = f\"Output/{VIDEO_NAME}\""
   ]
  },
  {
   "cell_type": "code",
   "execution_count": 14,
   "metadata": {
    "scrolled": true
   },
   "outputs": [
    {
     "name": "stdout",
     "output_type": "stream",
     "text": [
      "Loading video with shape: (100, 360, 640, 3)\n"
     ]
    }
   ],
   "source": [
    "video = np.load(FILENAME)\n",
    "print(\"Loading video with shape: {}\".format(video.shape))"
   ]
  },
  {
   "cell_type": "code",
   "execution_count": 15,
   "metadata": {},
   "outputs": [],
   "source": [
    "sigmaS = 1.0 # spatial low pass\n",
    "sigmaTlow = 5.0 # temporal larger gaussian\n",
    "sigmaThigh = 1.0 # temporal smaller gaussian\n",
    "alphaY = 20.0\n",
    "alphaUV = 20.0\n",
    "final_video = vm.videoMag(video, sigmaS, sigmaTlow, sigmaThigh, alphaY, alphaUV)\n"
   ]
  },
  {
   "cell_type": "code",
   "execution_count": 16,
   "metadata": {},
   "outputs": [
    {
     "name": "stderr",
     "output_type": "stream",
     "text": [
      "100%|██████████| 100/100 [00:20<00:00,  4.94it/s]\n"
     ]
    },
    {
     "name": "stdout",
     "output_type": "stream",
     "text": [
      "Saved images to Output/fan/images\n",
      "Saved video to Output/fan/images.mp4\n"
     ]
    }
   ],
   "source": [
    "vm.writeFrames(video, os.path.join(OUTPUT_PATH, \"images\"), framerate=FRAMERATE)"
   ]
  },
  {
   "cell_type": "code",
   "execution_count": 17,
   "metadata": {
    "scrolled": false
   },
   "outputs": [
    {
     "name": "stderr",
     "output_type": "stream",
     "text": [
      "100%|██████████| 100/100 [00:21<00:00,  4.55it/s]\n"
     ]
    },
    {
     "name": "stdout",
     "output_type": "stream",
     "text": [
      "Saved images to Output/fan_gaussian/images\n",
      "Saved video to Output/fan_gaussian/images.mp4\n"
     ]
    }
   ],
   "source": [
    "vm.writeFrames(final_video, os.path.join(OUTPUT_PATH + \"_gaussian\", \"images\"), framerate=FRAMERATE)"
   ]
  },
  {
   "cell_type": "markdown",
   "metadata": {},
   "source": [
    "#### <hr> baby video - butterworth:"
   ]
  },
  {
   "cell_type": "code",
   "execution_count": 18,
   "metadata": {},
   "outputs": [],
   "source": [
    "VIDEO_NAME = \"baby\"\n",
    "FRAMERATE = 30\n",
    "FILENAME = f\"Input/{VIDEO_NAME}.npy\"\n",
    "OUTPUT_PATH = f\"Output/{VIDEO_NAME}\""
   ]
  },
  {
   "cell_type": "code",
   "execution_count": 19,
   "metadata": {
    "scrolled": true
   },
   "outputs": [
    {
     "name": "stdout",
     "output_type": "stream",
     "text": [
      "Loading video with shape: (153, 277, 480, 3)\n"
     ]
    }
   ],
   "source": [
    "video = np.load(FILENAME)\n",
    "print(\"Loading video with shape: {}\".format(video.shape))"
   ]
  },
  {
   "cell_type": "code",
   "execution_count": 20,
   "metadata": {},
   "outputs": [],
   "source": [
    "sigmaS = 1.0 # spatial low pass\n",
    "lowcut = 0.4 # in Hz\n",
    "highcut = 3.0\n",
    "nyq = 0.5 * FRAMERATE\n",
    "low = lowcut / nyq\n",
    "high = highcut / nyq\n",
    "\n",
    "\n",
    "order = 4\n",
    "alphaY = 20.0\n",
    "alphaUV = 20.0\n",
    "final_video = vm.videoMagButter(video, sigmaS, low, high, order, alphaY, alphaUV)"
   ]
  },
  {
   "cell_type": "code",
   "execution_count": 21,
   "metadata": {
    "scrolled": false
   },
   "outputs": [
    {
     "name": "stderr",
     "output_type": "stream",
     "text": [
      "100%|██████████| 153/153 [00:17<00:00,  8.52it/s]\n"
     ]
    },
    {
     "name": "stdout",
     "output_type": "stream",
     "text": [
      "Saved images to Output/baby_butter/images\n",
      "Saved video to Output/baby_butter/images.mp4\n"
     ]
    }
   ],
   "source": [
    "vm.writeFrames(final_video, os.path.join(OUTPUT_PATH + \"_butter\", \"images\"), framerate=FRAMERATE)"
   ]
  },
  {
   "cell_type": "markdown",
   "metadata": {},
   "source": [
    "#### <hr> face video - butterworth:"
   ]
  },
  {
   "cell_type": "code",
   "execution_count": 22,
   "metadata": {},
   "outputs": [],
   "source": [
    "VIDEO_NAME = \"face\"\n",
    "FRAMERATE = 30\n",
    "FILENAME = f\"Input/{VIDEO_NAME}.npy\"\n",
    "OUTPUT_PATH = f\"Output/{VIDEO_NAME}\""
   ]
  },
  {
   "cell_type": "code",
   "execution_count": 23,
   "metadata": {
    "scrolled": true
   },
   "outputs": [
    {
     "name": "stdout",
     "output_type": "stream",
     "text": [
      "Loading video with shape: (153, 592, 528, 3)\n"
     ]
    }
   ],
   "source": [
    "video = np.load(FILENAME)\n",
    "print(\"Loading video with shape: {}\".format(video.shape))"
   ]
  },
  {
   "cell_type": "code",
   "execution_count": 24,
   "metadata": {},
   "outputs": [],
   "source": [
    "sigmaS = 1.0 # spatial low pass\n",
    "lowcut = 0.83 # in Hz\n",
    "highcut = 1.0\n",
    "nyq = 0.5 * FRAMERATE\n",
    "low = lowcut / nyq\n",
    "high = highcut / nyq\n",
    "\n",
    "\n",
    "order = 4\n",
    "alphaY = 20.0\n",
    "alphaUV = 20.0\n",
    "final_video = vm.videoMagButter(video, sigmaS, low, high, order, alphaY, alphaUV)"
   ]
  },
  {
   "cell_type": "code",
   "execution_count": 25,
   "metadata": {
    "scrolled": true
   },
   "outputs": [
    {
     "name": "stderr",
     "output_type": "stream",
     "text": [
      "100%|██████████| 153/153 [00:40<00:00,  3.80it/s]\n"
     ]
    },
    {
     "name": "stdout",
     "output_type": "stream",
     "text": [
      "Saved images to Output/face_butter/images\n",
      "Saved video to Output/face_butter/images.mp4\n"
     ]
    }
   ],
   "source": [
    "vm.writeFrames(final_video, os.path.join(OUTPUT_PATH + \"_butter\", \"images\"), framerate=FRAMERATE)"
   ]
  },
  {
   "cell_type": "markdown",
   "metadata": {},
   "source": [
    "#### <hr> fan video - butterworth:"
   ]
  },
  {
   "cell_type": "code",
   "execution_count": 26,
   "metadata": {},
   "outputs": [],
   "source": [
    "VIDEO_NAME = \"fan\"\n",
    "FRAMERATE = 30\n",
    "FILENAME = f\"Input/{VIDEO_NAME}.npy\"\n",
    "OUTPUT_PATH = f\"Output/{VIDEO_NAME}\""
   ]
  },
  {
   "cell_type": "code",
   "execution_count": 27,
   "metadata": {
    "scrolled": true
   },
   "outputs": [
    {
     "name": "stdout",
     "output_type": "stream",
     "text": [
      "Loading video with shape: (100, 360, 640, 3)\n"
     ]
    }
   ],
   "source": [
    "video = np.load(FILENAME)\n",
    "print(\"Loading video with shape: {}\".format(video.shape))"
   ]
  },
  {
   "cell_type": "code",
   "execution_count": 28,
   "metadata": {},
   "outputs": [],
   "source": [
    "sigmaS = 1.0 # spatial low pass\n",
    "lowcut = 0.4 # in Hz\n",
    "highcut = 5.0\n",
    "nyq = 0.5 * FRAMERATE\n",
    "low = lowcut / nyq\n",
    "high = highcut / nyq\n",
    "\n",
    "\n",
    "order = 4\n",
    "alphaY = 20.0\n",
    "alphaUV = 20.0\n",
    "final_video = vm.videoMagButter(video, sigmaS, low, high, order, alphaY, alphaUV)"
   ]
  },
  {
   "cell_type": "code",
   "execution_count": 29,
   "metadata": {
    "scrolled": true
   },
   "outputs": [
    {
     "name": "stderr",
     "output_type": "stream",
     "text": [
      "100%|██████████| 100/100 [00:19<00:00,  5.22it/s]\n"
     ]
    },
    {
     "name": "stdout",
     "output_type": "stream",
     "text": [
      "Saved images to Output/fan_butter/images\n",
      "Saved video to Output/fan_butter/images.mp4\n"
     ]
    }
   ],
   "source": [
    "vm.writeFrames(final_video, os.path.join(OUTPUT_PATH + \"_butter\", \"images\"), framerate=FRAMERATE)"
   ]
  },
  {
   "cell_type": "code",
   "execution_count": null,
   "metadata": {},
   "outputs": [],
   "source": []
  }
 ],
 "metadata": {
  "kernelspec": {
   "display_name": "evm",
   "language": "python",
   "name": "evm"
  },
  "language_info": {
   "codemirror_mode": {
    "name": "ipython",
    "version": 3
   },
   "file_extension": ".py",
   "mimetype": "text/x-python",
   "name": "python",
   "nbconvert_exporter": "python",
   "pygments_lexer": "ipython3",
   "version": "3.8.2"
  }
 },
 "nbformat": 4,
 "nbformat_minor": 4
}
