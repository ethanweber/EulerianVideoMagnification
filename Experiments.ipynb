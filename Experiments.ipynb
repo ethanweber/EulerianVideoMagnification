{
 "cells": [
  {
   "cell_type": "markdown",
   "metadata": {},
   "source": [
    "#### Eulerian Video Magnification (EVM) Experiments\n",
    "\n",
    "In this document, we run the code shown in the write-up."
   ]
  },
  {
   "cell_type": "code",
   "execution_count": 1,
   "metadata": {},
   "outputs": [],
   "source": [
    "%load_ext autoreload\n",
    "%autoreload 2"
   ]
  },
  {
   "cell_type": "code",
   "execution_count": 18,
   "metadata": {},
   "outputs": [],
   "source": [
    "from tqdm import tqdm\n",
    "import os\n",
    "import numpy as np\n",
    "import a12 as vm"
   ]
  },
  {
   "cell_type": "code",
   "execution_count": 51,
   "metadata": {},
   "outputs": [],
   "source": [
    "VIDEO_NAME = \"baby\"\n",
    "# VIDEO_NAME = \"face\"\n",
    "FRAMERATE = 30\n",
    "FILENAME = f\"Input/{VIDEO_NAME}.npy\"\n",
    "OUTPUT_PATH = f\"Output/{VIDEO_NAME}\""
   ]
  },
  {
   "cell_type": "code",
   "execution_count": 52,
   "metadata": {},
   "outputs": [
    {
     "name": "stdout",
     "output_type": "stream",
     "text": [
      "Loading video with shape: (153, 277, 480, 3)\n"
     ]
    }
   ],
   "source": [
    "video = np.load(FILENAME)\n",
    "print(\"Loading video with shape: {}\".format(video.shape))"
   ]
  },
  {
   "cell_type": "markdown",
   "metadata": {},
   "source": [
    "#### <hr> Convert to RGB to YUV"
   ]
  },
  {
   "cell_type": "code",
   "execution_count": 45,
   "metadata": {},
   "outputs": [],
   "source": [
    "# out = vm.videoMag(v, 10, 20, 4, 80, 2)\n",
    "# vm.writeFrames(v, \"baby/frame\")"
   ]
  },
  {
   "cell_type": "code",
   "execution_count": null,
   "metadata": {},
   "outputs": [],
   "source": []
  },
  {
   "cell_type": "code",
   "execution_count": 50,
   "metadata": {},
   "outputs": [
    {
     "name": "stderr",
     "output_type": "stream",
     "text": [
      "100%|██████████| 153/153 [00:40<00:00,  3.79it/s]\n"
     ]
    },
    {
     "name": "stdout",
     "output_type": "stream",
     "text": [
      "Saved images to Output/face/images\n",
      "Saved video to Output/face/images.mp4\n"
     ]
    }
   ],
   "source": [
    "vm.writeFrames(video, os.path.join(OUTPUT_PATH, \"images\"), framerate=FRAMERATE)"
   ]
  }
 ],
 "metadata": {
  "kernelspec": {
   "display_name": "evm",
   "language": "python",
   "name": "evm"
  },
  "language_info": {
   "codemirror_mode": {
    "name": "ipython",
    "version": 3
   },
   "file_extension": ".py",
   "mimetype": "text/x-python",
   "name": "python",
   "nbconvert_exporter": "python",
   "pygments_lexer": "ipython3",
   "version": "3.8.2"
  }
 },
 "nbformat": 4,
 "nbformat_minor": 4
}
